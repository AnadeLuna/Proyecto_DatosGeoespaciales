{
 "cells": [
  {
   "cell_type": "markdown",
   "id": "valued-dodge",
   "metadata": {},
   "source": [
    "# Tech companies in California"
   ]
  },
  {
   "cell_type": "markdown",
   "id": "northern-isolation",
   "metadata": {},
   "source": [
    "## 1º Import the libraries "
   ]
  },
  {
   "cell_type": "code",
   "execution_count": 1,
   "id": "south-clear",
   "metadata": {},
   "outputs": [],
   "source": [
    "from pymongo import MongoClient\n",
    "import pandas as pd"
   ]
  },
  {
   "cell_type": "markdown",
   "id": "strategic-disease",
   "metadata": {},
   "source": [
    "## 2º Conection with the client."
   ]
  },
  {
   "cell_type": "code",
   "execution_count": 2,
   "id": "dangerous-combination",
   "metadata": {},
   "outputs": [],
   "source": [
    "client = MongoClient()"
   ]
  },
  {
   "cell_type": "markdown",
   "id": "framed-muscle",
   "metadata": {},
   "source": [
    "## 3º Conection with database in Mongo."
   ]
  },
  {
   "cell_type": "code",
   "execution_count": 3,
   "id": "lightweight-sensitivity",
   "metadata": {},
   "outputs": [
    {
     "data": {
      "text/plain": [
       "Collection(Database(MongoClient(host=['localhost:27017'], document_class=dict, tz_aware=False, connect=True), 'ironhack'), 'companies')"
      ]
     },
     "execution_count": 3,
     "metadata": {},
     "output_type": "execute_result"
    }
   ],
   "source": [
    "db = client.ironhack\n",
    "db.companies"
   ]
  },
  {
   "cell_type": "markdown",
   "id": "subjective-essay",
   "metadata": {},
   "source": [
    "## 4º All tech companies in California that raising more than 1 million."
   ]
  },
  {
   "cell_type": "code",
   "execution_count": 4,
   "id": "voluntary-scout",
   "metadata": {},
   "outputs": [],
   "source": [
    "filt = {\"$and\":[{\"offices.state_code\":{\"$eq\":\"CA\"}},{\"offices.country_code\":{\"$eq\":\"USA\"}},{\"total_money_raised\":{\"$regex\":\"M\"}},{\"number_of_employees\":{\"$lte\":200}},{\"category_code\":{\"$gte\":\"software\"}}]}\n",
    "proyect = {\"_id\":0,\"name\":1,\"total_money_raised\":1,\"offices.city\":1,\"offices.state_code\":1,\"offices.country_code\":1,\"category_code\":1,\"founded_year\":1,\"number_of_employees\":1}\n",
    "\n",
    "result = db.companies.find(filt,proyect).sort(\"founded_year\",-1)\n",
    "\n",
    "tech_comp_cali = list(result)\n",
    "#tech_comp_cali"
   ]
  },
  {
   "cell_type": "code",
   "execution_count": 5,
   "id": "fourth-sampling",
   "metadata": {
    "scrolled": true
   },
   "outputs": [],
   "source": [
    "df_tech_comp_cali = pd.json_normalize(tech_comp_cali,\"offices\",[\"name\",\"category_code\",\"number_of_employees\",\"founded_year\",\"total_money_raised\"])\n",
    "#df_tech_comp_cali"
   ]
  },
  {
   "cell_type": "code",
   "execution_count": 19,
   "id": "robust-flooring",
   "metadata": {},
   "outputs": [],
   "source": [
    "#Clean the DataSet.\n",
    "df_tech_comp_cali  = df_tech_comp_cali.drop_duplicates()\n",
    "df_tech_comp_cali = df_tech_comp_cali[df_tech_comp_cali[\"state_code\"] == \"CA\"]\n",
    "df_tech_comp_cali = df_tech_comp_cali[df_tech_comp_cali[\"country_code\"] == \"USA\"]\n",
    "#df_tech_comp_cali"
   ]
  },
  {
   "cell_type": "code",
   "execution_count": 7,
   "id": "charged-playing",
   "metadata": {},
   "outputs": [
    {
     "data": {
      "text/plain": [
       "'All tech companies in California that raising more than 1 million : 217'"
      ]
     },
     "execution_count": 7,
     "metadata": {},
     "output_type": "execute_result"
    }
   ],
   "source": [
    "f\"All tech companies in California that raising more than 1 million : {len(df_tech_comp_cali.index)}\""
   ]
  },
  {
   "cell_type": "markdown",
   "id": "average-attack",
   "metadata": {},
   "source": [
    "## 5º All tech companies in California that raise more than 1 million and were founded starting in 2009."
   ]
  },
  {
   "cell_type": "code",
   "execution_count": 8,
   "id": "vanilla-swedish",
   "metadata": {
    "scrolled": false
   },
   "outputs": [
    {
     "name": "stdout",
     "output_type": "stream",
     "text": [
      "All tech companies in California that raise more than 1 million and were founded starting in 2009 :  11\n"
     ]
    }
   ],
   "source": [
    "filt = {\"$and\":[{\"offices.state_code\":{\"$eq\":\"CA\"}},{\"offices.country_code\":{\"$eq\":\"USA\"}},{\"total_money_raised\":{\"$regex\":\"M\"}},{\"number_of_employees\":{\"$lte\":200}},{\"category_code\":{\"$gte\":\"software\"}},{\"founded_year\":{\"$gte\":2009}}]}\n",
    "proyect = {\"_id\":0,\"name\":1,\"total_money_raised\":1,\"offices.city\":1,\"offices.state_code\":1,\"offices.country_code\":1,\"offices.latitude\":1,\"offices.longitude\":1,\"category_code\":1,\"founded_year\":1,\"number_of_employees\":1}\n",
    "\n",
    "result = db.companies.find(filt,proyect).sort(\"founded_year\",-1)\n",
    "list_companies = list(result)\n",
    "\n",
    "print(\"All tech companies in California that raise more than 1 million and were founded starting in 2009 : \",len(list_companies))\n",
    "#list_companies"
   ]
  },
  {
   "cell_type": "code",
   "execution_count": 9,
   "id": "raising-preparation",
   "metadata": {},
   "outputs": [],
   "source": [
    "df_new_office = pd.json_normalize(list_companies,\"offices\",[\"name\",\"category_code\",\"number_of_employees\",\"founded_year\",\"total_money_raised\"])\n",
    "#df_new_office"
   ]
  },
  {
   "cell_type": "code",
   "execution_count": 10,
   "id": "republican-frost",
   "metadata": {
    "scrolled": true
   },
   "outputs": [],
   "source": [
    "#Clean the DataSet.\n",
    "\n",
    "df_new_office = df_new_office.dropna(axis=0, how=\"any\")\n",
    "df_new_office = df_new_office.drop_duplicates()\n",
    "df_new_office = df_new_office[df_new_office[\"state_code\"] == \"CA\"]\n",
    "df_new_office = df_new_office[df_new_office[\"country_code\"] == \"USA\"]"
   ]
  },
  {
   "cell_type": "code",
   "execution_count": 11,
   "id": "obvious-column",
   "metadata": {
    "scrolled": true
   },
   "outputs": [
    {
     "data": {
      "text/html": [
       "<div>\n",
       "<style scoped>\n",
       "    .dataframe tbody tr th:only-of-type {\n",
       "        vertical-align: middle;\n",
       "    }\n",
       "\n",
       "    .dataframe tbody tr th {\n",
       "        vertical-align: top;\n",
       "    }\n",
       "\n",
       "    .dataframe thead th {\n",
       "        text-align: right;\n",
       "    }\n",
       "</style>\n",
       "<table border=\"1\" class=\"dataframe\">\n",
       "  <thead>\n",
       "    <tr style=\"text-align: right;\">\n",
       "      <th></th>\n",
       "      <th>city</th>\n",
       "      <th>state_code</th>\n",
       "      <th>country_code</th>\n",
       "      <th>latitude</th>\n",
       "      <th>longitude</th>\n",
       "      <th>name</th>\n",
       "      <th>category_code</th>\n",
       "      <th>number_of_employees</th>\n",
       "      <th>founded_year</th>\n",
       "      <th>total_money_raised</th>\n",
       "    </tr>\n",
       "  </thead>\n",
       "  <tbody>\n",
       "    <tr>\n",
       "      <th>0</th>\n",
       "      <td>San Mateo</td>\n",
       "      <td>CA</td>\n",
       "      <td>USA</td>\n",
       "      <td>37.566879</td>\n",
       "      <td>-122.323895</td>\n",
       "      <td>Fixya</td>\n",
       "      <td>web</td>\n",
       "      <td>30</td>\n",
       "      <td>2013</td>\n",
       "      <td>$8M</td>\n",
       "    </tr>\n",
       "    <tr>\n",
       "      <th>11</th>\n",
       "      <td>San Francisco</td>\n",
       "      <td>CA</td>\n",
       "      <td>USA</td>\n",
       "      <td>39.905226</td>\n",
       "      <td>-86.054702</td>\n",
       "      <td>Formspring</td>\n",
       "      <td>web</td>\n",
       "      <td>19</td>\n",
       "      <td>2009</td>\n",
       "      <td>$14.3M</td>\n",
       "    </tr>\n",
       "    <tr>\n",
       "      <th>12</th>\n",
       "      <td>Santa Monica</td>\n",
       "      <td>CA</td>\n",
       "      <td>USA</td>\n",
       "      <td>34.007112</td>\n",
       "      <td>-118.489748</td>\n",
       "      <td>Tongal</td>\n",
       "      <td>web</td>\n",
       "      <td>8</td>\n",
       "      <td>2009</td>\n",
       "      <td>$16M</td>\n",
       "    </tr>\n",
       "    <tr>\n",
       "      <th>14</th>\n",
       "      <td>Menlo Park</td>\n",
       "      <td>CA</td>\n",
       "      <td>USA</td>\n",
       "      <td>37.448491</td>\n",
       "      <td>-122.180281</td>\n",
       "      <td>Factery</td>\n",
       "      <td>web</td>\n",
       "      <td>2</td>\n",
       "      <td>2009</td>\n",
       "      <td>$1.2M</td>\n",
       "    </tr>\n",
       "  </tbody>\n",
       "</table>\n",
       "</div>"
      ],
      "text/plain": [
       "             city state_code country_code   latitude   longitude        name  \\\n",
       "0       San Mateo         CA          USA  37.566879 -122.323895       Fixya   \n",
       "11  San Francisco         CA          USA  39.905226  -86.054702  Formspring   \n",
       "12   Santa Monica         CA          USA  34.007112 -118.489748      Tongal   \n",
       "14     Menlo Park         CA          USA  37.448491 -122.180281     Factery   \n",
       "\n",
       "   category_code number_of_employees founded_year total_money_raised  \n",
       "0            web                  30         2013                $8M  \n",
       "11           web                  19         2009             $14.3M  \n",
       "12           web                   8         2009               $16M  \n",
       "14           web                   2         2009              $1.2M  "
      ]
     },
     "execution_count": 11,
     "metadata": {},
     "output_type": "execute_result"
    }
   ],
   "source": [
    "df_new_office"
   ]
  },
  {
   "cell_type": "markdown",
   "id": "random-payroll",
   "metadata": {},
   "source": [
    "# 6º Map with the companies."
   ]
  },
  {
   "cell_type": "code",
   "execution_count": 13,
   "id": "coastal-linux",
   "metadata": {},
   "outputs": [],
   "source": [
    "import folium\n",
    "from folium import Choropleth, Circle, Marker, Icon, Map\n",
    "from folium.plugins import HeatMap, MarkerCluster\n",
    "import pandas as pd"
   ]
  },
  {
   "cell_type": "code",
   "execution_count": 14,
   "id": "egyptian-prediction",
   "metadata": {},
   "outputs": [],
   "source": [
    "inicial_lat = 37.566879\n",
    "inicial_long = -122.323895"
   ]
  },
  {
   "cell_type": "code",
   "execution_count": 15,
   "id": "individual-water",
   "metadata": {},
   "outputs": [],
   "source": [
    "maps = folium.Map(location = [inicial_lat,inicial_long], zoom_start=15)"
   ]
  },
  {
   "cell_type": "code",
   "execution_count": 16,
   "id": "silent-potter",
   "metadata": {},
   "outputs": [
    {
     "data": {
      "text/plain": [
       "<folium.map.Marker at 0x11a927400>"
      ]
     },
     "execution_count": 16,
     "metadata": {},
     "output_type": "execute_result"
    }
   ],
   "source": [
    "San_Mateo = Marker(location = [inicial_lat,inicial_long],tooltip=\"New office\")\n",
    "San_Mateo.add_to(maps)"
   ]
  },
  {
   "cell_type": "code",
   "execution_count": 18,
   "id": "amended-substance",
   "metadata": {
    "scrolled": true
   },
   "outputs": [
    {
     "data": {
      "text/html": [
       "<div style=\"width:100%;\"><div style=\"position:relative;width:100%;height:0;padding-bottom:60%;\"><span style=\"color:#565656\">Make this Notebook Trusted to load map: File -> Trust Notebook</span><iframe src=\"about:blank\" style=\"position:absolute;width:100%;height:100%;left:0;top:0;border:none !important;\" data-html=%3C%21DOCTYPE%20html%3E%0A%3Chead%3E%20%20%20%20%0A%20%20%20%20%3Cmeta%20http-equiv%3D%22content-type%22%20content%3D%22text/html%3B%20charset%3DUTF-8%22%20/%3E%0A%20%20%20%20%0A%20%20%20%20%20%20%20%20%3Cscript%3E%0A%20%20%20%20%20%20%20%20%20%20%20%20L_NO_TOUCH%20%3D%20false%3B%0A%20%20%20%20%20%20%20%20%20%20%20%20L_DISABLE_3D%20%3D%20false%3B%0A%20%20%20%20%20%20%20%20%3C/script%3E%0A%20%20%20%20%0A%20%20%20%20%3Cstyle%3Ehtml%2C%20body%20%7Bwidth%3A%20100%25%3Bheight%3A%20100%25%3Bmargin%3A%200%3Bpadding%3A%200%3B%7D%3C/style%3E%0A%20%20%20%20%3Cstyle%3E%23map%20%7Bposition%3Aabsolute%3Btop%3A0%3Bbottom%3A0%3Bright%3A0%3Bleft%3A0%3B%7D%3C/style%3E%0A%20%20%20%20%3Cscript%20src%3D%22https%3A//cdn.jsdelivr.net/npm/leaflet%401.6.0/dist/leaflet.js%22%3E%3C/script%3E%0A%20%20%20%20%3Cscript%20src%3D%22https%3A//code.jquery.com/jquery-1.12.4.min.js%22%3E%3C/script%3E%0A%20%20%20%20%3Cscript%20src%3D%22https%3A//maxcdn.bootstrapcdn.com/bootstrap/3.2.0/js/bootstrap.min.js%22%3E%3C/script%3E%0A%20%20%20%20%3Cscript%20src%3D%22https%3A//cdnjs.cloudflare.com/ajax/libs/Leaflet.awesome-markers/2.0.2/leaflet.awesome-markers.js%22%3E%3C/script%3E%0A%20%20%20%20%3Clink%20rel%3D%22stylesheet%22%20href%3D%22https%3A//cdn.jsdelivr.net/npm/leaflet%401.6.0/dist/leaflet.css%22/%3E%0A%20%20%20%20%3Clink%20rel%3D%22stylesheet%22%20href%3D%22https%3A//maxcdn.bootstrapcdn.com/bootstrap/3.2.0/css/bootstrap.min.css%22/%3E%0A%20%20%20%20%3Clink%20rel%3D%22stylesheet%22%20href%3D%22https%3A//maxcdn.bootstrapcdn.com/bootstrap/3.2.0/css/bootstrap-theme.min.css%22/%3E%0A%20%20%20%20%3Clink%20rel%3D%22stylesheet%22%20href%3D%22https%3A//maxcdn.bootstrapcdn.com/font-awesome/4.6.3/css/font-awesome.min.css%22/%3E%0A%20%20%20%20%3Clink%20rel%3D%22stylesheet%22%20href%3D%22https%3A//cdnjs.cloudflare.com/ajax/libs/Leaflet.awesome-markers/2.0.2/leaflet.awesome-markers.css%22/%3E%0A%20%20%20%20%3Clink%20rel%3D%22stylesheet%22%20href%3D%22https%3A//cdn.jsdelivr.net/gh/python-visualization/folium/folium/templates/leaflet.awesome.rotate.min.css%22/%3E%0A%20%20%20%20%0A%20%20%20%20%20%20%20%20%20%20%20%20%3Cmeta%20name%3D%22viewport%22%20content%3D%22width%3Ddevice-width%2C%0A%20%20%20%20%20%20%20%20%20%20%20%20%20%20%20%20initial-scale%3D1.0%2C%20maximum-scale%3D1.0%2C%20user-scalable%3Dno%22%20/%3E%0A%20%20%20%20%20%20%20%20%20%20%20%20%3Cstyle%3E%0A%20%20%20%20%20%20%20%20%20%20%20%20%20%20%20%20%23map_4864c1b335d44f34a8bf30a77401a478%20%7B%0A%20%20%20%20%20%20%20%20%20%20%20%20%20%20%20%20%20%20%20%20position%3A%20relative%3B%0A%20%20%20%20%20%20%20%20%20%20%20%20%20%20%20%20%20%20%20%20width%3A%20100.0%25%3B%0A%20%20%20%20%20%20%20%20%20%20%20%20%20%20%20%20%20%20%20%20height%3A%20100.0%25%3B%0A%20%20%20%20%20%20%20%20%20%20%20%20%20%20%20%20%20%20%20%20left%3A%200.0%25%3B%0A%20%20%20%20%20%20%20%20%20%20%20%20%20%20%20%20%20%20%20%20top%3A%200.0%25%3B%0A%20%20%20%20%20%20%20%20%20%20%20%20%20%20%20%20%7D%0A%20%20%20%20%20%20%20%20%20%20%20%20%3C/style%3E%0A%20%20%20%20%20%20%20%20%0A%3C/head%3E%0A%3Cbody%3E%20%20%20%20%0A%20%20%20%20%0A%20%20%20%20%20%20%20%20%20%20%20%20%3Cdiv%20class%3D%22folium-map%22%20id%3D%22map_4864c1b335d44f34a8bf30a77401a478%22%20%3E%3C/div%3E%0A%20%20%20%20%20%20%20%20%0A%3C/body%3E%0A%3Cscript%3E%20%20%20%20%0A%20%20%20%20%0A%20%20%20%20%20%20%20%20%20%20%20%20var%20map_4864c1b335d44f34a8bf30a77401a478%20%3D%20L.map%28%0A%20%20%20%20%20%20%20%20%20%20%20%20%20%20%20%20%22map_4864c1b335d44f34a8bf30a77401a478%22%2C%0A%20%20%20%20%20%20%20%20%20%20%20%20%20%20%20%20%7B%0A%20%20%20%20%20%20%20%20%20%20%20%20%20%20%20%20%20%20%20%20center%3A%20%5B37.566879%2C%20-122.323895%5D%2C%0A%20%20%20%20%20%20%20%20%20%20%20%20%20%20%20%20%20%20%20%20crs%3A%20L.CRS.EPSG3857%2C%0A%20%20%20%20%20%20%20%20%20%20%20%20%20%20%20%20%20%20%20%20zoom%3A%2015%2C%0A%20%20%20%20%20%20%20%20%20%20%20%20%20%20%20%20%20%20%20%20zoomControl%3A%20true%2C%0A%20%20%20%20%20%20%20%20%20%20%20%20%20%20%20%20%20%20%20%20preferCanvas%3A%20false%2C%0A%20%20%20%20%20%20%20%20%20%20%20%20%20%20%20%20%7D%0A%20%20%20%20%20%20%20%20%20%20%20%20%29%3B%0A%0A%20%20%20%20%20%20%20%20%20%20%20%20%0A%0A%20%20%20%20%20%20%20%20%0A%20%20%20%20%0A%20%20%20%20%20%20%20%20%20%20%20%20var%20tile_layer_240ff18afdd54379a4da4494474e85a3%20%3D%20L.tileLayer%28%0A%20%20%20%20%20%20%20%20%20%20%20%20%20%20%20%20%22https%3A//%7Bs%7D.tile.openstreetmap.org/%7Bz%7D/%7Bx%7D/%7By%7D.png%22%2C%0A%20%20%20%20%20%20%20%20%20%20%20%20%20%20%20%20%7B%22attribution%22%3A%20%22Data%20by%20%5Cu0026copy%3B%20%5Cu003ca%20href%3D%5C%22http%3A//openstreetmap.org%5C%22%5Cu003eOpenStreetMap%5Cu003c/a%5Cu003e%2C%20under%20%5Cu003ca%20href%3D%5C%22http%3A//www.openstreetmap.org/copyright%5C%22%5Cu003eODbL%5Cu003c/a%5Cu003e.%22%2C%20%22detectRetina%22%3A%20false%2C%20%22maxNativeZoom%22%3A%2018%2C%20%22maxZoom%22%3A%2018%2C%20%22minZoom%22%3A%200%2C%20%22noWrap%22%3A%20false%2C%20%22opacity%22%3A%201%2C%20%22subdomains%22%3A%20%22abc%22%2C%20%22tms%22%3A%20false%7D%0A%20%20%20%20%20%20%20%20%20%20%20%20%29.addTo%28map_4864c1b335d44f34a8bf30a77401a478%29%3B%0A%20%20%20%20%20%20%20%20%0A%20%20%20%20%0A%20%20%20%20%20%20%20%20%20%20%20%20var%20marker_7b71e2689e4b4779b5ef0c02d3eeaceb%20%3D%20L.marker%28%0A%20%20%20%20%20%20%20%20%20%20%20%20%20%20%20%20%5B37.566879%2C%20-122.323895%5D%2C%0A%20%20%20%20%20%20%20%20%20%20%20%20%20%20%20%20%7B%7D%0A%20%20%20%20%20%20%20%20%20%20%20%20%29.addTo%28map_4864c1b335d44f34a8bf30a77401a478%29%3B%0A%20%20%20%20%20%20%20%20%0A%20%20%20%20%0A%20%20%20%20%20%20%20%20%20%20%20%20marker_7b71e2689e4b4779b5ef0c02d3eeaceb.bindTooltip%28%0A%20%20%20%20%20%20%20%20%20%20%20%20%20%20%20%20%60%3Cdiv%3E%0A%20%20%20%20%20%20%20%20%20%20%20%20%20%20%20%20%20%20%20%20%20New%20office%0A%20%20%20%20%20%20%20%20%20%20%20%20%20%20%20%20%20%3C/div%3E%60%2C%0A%20%20%20%20%20%20%20%20%20%20%20%20%20%20%20%20%7B%22sticky%22%3A%20true%7D%0A%20%20%20%20%20%20%20%20%20%20%20%20%29%3B%0A%20%20%20%20%20%20%20%20%0A%20%20%20%20%0A%20%20%20%20%20%20%20%20%20%20%20%20var%20marker_3dd6c3dd6fac47a4bdfa2e10644e0419%20%3D%20L.marker%28%0A%20%20%20%20%20%20%20%20%20%20%20%20%20%20%20%20%5B37.566879%2C%20-122.323895%5D%2C%0A%20%20%20%20%20%20%20%20%20%20%20%20%20%20%20%20%7B%7D%0A%20%20%20%20%20%20%20%20%20%20%20%20%29.addTo%28map_4864c1b335d44f34a8bf30a77401a478%29%3B%0A%20%20%20%20%20%20%20%20%0A%20%20%20%20%0A%20%20%20%20%20%20%20%20%20%20%20%20marker_3dd6c3dd6fac47a4bdfa2e10644e0419.bindTooltip%28%0A%20%20%20%20%20%20%20%20%20%20%20%20%20%20%20%20%60%3Cdiv%3E%0A%20%20%20%20%20%20%20%20%20%20%20%20%20%20%20%20%20%20%20%20%20Fixya%0A%20%20%20%20%20%20%20%20%20%20%20%20%20%20%20%20%20%3C/div%3E%60%2C%0A%20%20%20%20%20%20%20%20%20%20%20%20%20%20%20%20%7B%22sticky%22%3A%20true%7D%0A%20%20%20%20%20%20%20%20%20%20%20%20%29%3B%0A%20%20%20%20%20%20%20%20%0A%20%20%20%20%0A%20%20%20%20%20%20%20%20%20%20%20%20var%20marker_dbd3df88d8f94df28263cd35d98d1bf1%20%3D%20L.marker%28%0A%20%20%20%20%20%20%20%20%20%20%20%20%20%20%20%20%5B39.9052263%2C%20-86.0547016%5D%2C%0A%20%20%20%20%20%20%20%20%20%20%20%20%20%20%20%20%7B%7D%0A%20%20%20%20%20%20%20%20%20%20%20%20%29.addTo%28map_4864c1b335d44f34a8bf30a77401a478%29%3B%0A%20%20%20%20%20%20%20%20%0A%20%20%20%20%0A%20%20%20%20%20%20%20%20%20%20%20%20marker_dbd3df88d8f94df28263cd35d98d1bf1.bindTooltip%28%0A%20%20%20%20%20%20%20%20%20%20%20%20%20%20%20%20%60%3Cdiv%3E%0A%20%20%20%20%20%20%20%20%20%20%20%20%20%20%20%20%20%20%20%20%20Formspring%0A%20%20%20%20%20%20%20%20%20%20%20%20%20%20%20%20%20%3C/div%3E%60%2C%0A%20%20%20%20%20%20%20%20%20%20%20%20%20%20%20%20%7B%22sticky%22%3A%20true%7D%0A%20%20%20%20%20%20%20%20%20%20%20%20%29%3B%0A%20%20%20%20%20%20%20%20%0A%20%20%20%20%0A%20%20%20%20%20%20%20%20%20%20%20%20var%20marker_073f913390084229a5aa001b83707249%20%3D%20L.marker%28%0A%20%20%20%20%20%20%20%20%20%20%20%20%20%20%20%20%5B34.007112%2C%20-118.489748%5D%2C%0A%20%20%20%20%20%20%20%20%20%20%20%20%20%20%20%20%7B%7D%0A%20%20%20%20%20%20%20%20%20%20%20%20%29.addTo%28map_4864c1b335d44f34a8bf30a77401a478%29%3B%0A%20%20%20%20%20%20%20%20%0A%20%20%20%20%0A%20%20%20%20%20%20%20%20%20%20%20%20marker_073f913390084229a5aa001b83707249.bindTooltip%28%0A%20%20%20%20%20%20%20%20%20%20%20%20%20%20%20%20%60%3Cdiv%3E%0A%20%20%20%20%20%20%20%20%20%20%20%20%20%20%20%20%20%20%20%20%20Tongal%0A%20%20%20%20%20%20%20%20%20%20%20%20%20%20%20%20%20%3C/div%3E%60%2C%0A%20%20%20%20%20%20%20%20%20%20%20%20%20%20%20%20%7B%22sticky%22%3A%20true%7D%0A%20%20%20%20%20%20%20%20%20%20%20%20%29%3B%0A%20%20%20%20%20%20%20%20%0A%20%20%20%20%0A%20%20%20%20%20%20%20%20%20%20%20%20var%20marker_a5a5b2b1620b41a6829f4a8696af0176%20%3D%20L.marker%28%0A%20%20%20%20%20%20%20%20%20%20%20%20%20%20%20%20%5B37.4484914%2C%20-122.1802812%5D%2C%0A%20%20%20%20%20%20%20%20%20%20%20%20%20%20%20%20%7B%7D%0A%20%20%20%20%20%20%20%20%20%20%20%20%29.addTo%28map_4864c1b335d44f34a8bf30a77401a478%29%3B%0A%20%20%20%20%20%20%20%20%0A%20%20%20%20%0A%20%20%20%20%20%20%20%20%20%20%20%20marker_a5a5b2b1620b41a6829f4a8696af0176.bindTooltip%28%0A%20%20%20%20%20%20%20%20%20%20%20%20%20%20%20%20%60%3Cdiv%3E%0A%20%20%20%20%20%20%20%20%20%20%20%20%20%20%20%20%20%20%20%20%20Factery%0A%20%20%20%20%20%20%20%20%20%20%20%20%20%20%20%20%20%3C/div%3E%60%2C%0A%20%20%20%20%20%20%20%20%20%20%20%20%20%20%20%20%7B%22sticky%22%3A%20true%7D%0A%20%20%20%20%20%20%20%20%20%20%20%20%29%3B%0A%20%20%20%20%20%20%20%20%0A%20%20%20%20%0A%20%20%20%20%20%20%20%20%20%20%20%20var%20marker_4aaa8b2a0a0f428d8b5f0bcc88bed355%20%3D%20L.marker%28%0A%20%20%20%20%20%20%20%20%20%20%20%20%20%20%20%20%5B37.566879%2C%20-122.323895%5D%2C%0A%20%20%20%20%20%20%20%20%20%20%20%20%20%20%20%20%7B%7D%0A%20%20%20%20%20%20%20%20%20%20%20%20%29.addTo%28map_4864c1b335d44f34a8bf30a77401a478%29%3B%0A%20%20%20%20%20%20%20%20%0A%20%20%20%20%0A%20%20%20%20%20%20%20%20%20%20%20%20marker_4aaa8b2a0a0f428d8b5f0bcc88bed355.bindTooltip%28%0A%20%20%20%20%20%20%20%20%20%20%20%20%20%20%20%20%60%3Cdiv%3E%0A%20%20%20%20%20%20%20%20%20%20%20%20%20%20%20%20%20%20%20%20%20Fixya%0A%20%20%20%20%20%20%20%20%20%20%20%20%20%20%20%20%20%3C/div%3E%60%2C%0A%20%20%20%20%20%20%20%20%20%20%20%20%20%20%20%20%7B%22sticky%22%3A%20true%7D%0A%20%20%20%20%20%20%20%20%20%20%20%20%29%3B%0A%20%20%20%20%20%20%20%20%0A%20%20%20%20%0A%20%20%20%20%20%20%20%20%20%20%20%20var%20marker_9cc708655f9e4134a34a80109873549f%20%3D%20L.marker%28%0A%20%20%20%20%20%20%20%20%20%20%20%20%20%20%20%20%5B39.9052263%2C%20-86.0547016%5D%2C%0A%20%20%20%20%20%20%20%20%20%20%20%20%20%20%20%20%7B%7D%0A%20%20%20%20%20%20%20%20%20%20%20%20%29.addTo%28map_4864c1b335d44f34a8bf30a77401a478%29%3B%0A%20%20%20%20%20%20%20%20%0A%20%20%20%20%0A%20%20%20%20%20%20%20%20%20%20%20%20marker_9cc708655f9e4134a34a80109873549f.bindTooltip%28%0A%20%20%20%20%20%20%20%20%20%20%20%20%20%20%20%20%60%3Cdiv%3E%0A%20%20%20%20%20%20%20%20%20%20%20%20%20%20%20%20%20%20%20%20%20Formspring%0A%20%20%20%20%20%20%20%20%20%20%20%20%20%20%20%20%20%3C/div%3E%60%2C%0A%20%20%20%20%20%20%20%20%20%20%20%20%20%20%20%20%7B%22sticky%22%3A%20true%7D%0A%20%20%20%20%20%20%20%20%20%20%20%20%29%3B%0A%20%20%20%20%20%20%20%20%0A%20%20%20%20%0A%20%20%20%20%20%20%20%20%20%20%20%20var%20marker_729519af50b74c509a529d561b42b08c%20%3D%20L.marker%28%0A%20%20%20%20%20%20%20%20%20%20%20%20%20%20%20%20%5B34.007112%2C%20-118.489748%5D%2C%0A%20%20%20%20%20%20%20%20%20%20%20%20%20%20%20%20%7B%7D%0A%20%20%20%20%20%20%20%20%20%20%20%20%29.addTo%28map_4864c1b335d44f34a8bf30a77401a478%29%3B%0A%20%20%20%20%20%20%20%20%0A%20%20%20%20%0A%20%20%20%20%20%20%20%20%20%20%20%20marker_729519af50b74c509a529d561b42b08c.bindTooltip%28%0A%20%20%20%20%20%20%20%20%20%20%20%20%20%20%20%20%60%3Cdiv%3E%0A%20%20%20%20%20%20%20%20%20%20%20%20%20%20%20%20%20%20%20%20%20Tongal%0A%20%20%20%20%20%20%20%20%20%20%20%20%20%20%20%20%20%3C/div%3E%60%2C%0A%20%20%20%20%20%20%20%20%20%20%20%20%20%20%20%20%7B%22sticky%22%3A%20true%7D%0A%20%20%20%20%20%20%20%20%20%20%20%20%29%3B%0A%20%20%20%20%20%20%20%20%0A%20%20%20%20%0A%20%20%20%20%20%20%20%20%20%20%20%20var%20marker_86b4c171610d4a438eb794591da6de7c%20%3D%20L.marker%28%0A%20%20%20%20%20%20%20%20%20%20%20%20%20%20%20%20%5B37.4484914%2C%20-122.1802812%5D%2C%0A%20%20%20%20%20%20%20%20%20%20%20%20%20%20%20%20%7B%7D%0A%20%20%20%20%20%20%20%20%20%20%20%20%29.addTo%28map_4864c1b335d44f34a8bf30a77401a478%29%3B%0A%20%20%20%20%20%20%20%20%0A%20%20%20%20%0A%20%20%20%20%20%20%20%20%20%20%20%20marker_86b4c171610d4a438eb794591da6de7c.bindTooltip%28%0A%20%20%20%20%20%20%20%20%20%20%20%20%20%20%20%20%60%3Cdiv%3E%0A%20%20%20%20%20%20%20%20%20%20%20%20%20%20%20%20%20%20%20%20%20Factery%0A%20%20%20%20%20%20%20%20%20%20%20%20%20%20%20%20%20%3C/div%3E%60%2C%0A%20%20%20%20%20%20%20%20%20%20%20%20%20%20%20%20%7B%22sticky%22%3A%20true%7D%0A%20%20%20%20%20%20%20%20%20%20%20%20%29%3B%0A%20%20%20%20%20%20%20%20%0A%3C/script%3E onload=\"this.contentDocument.open();this.contentDocument.write(    decodeURIComponent(this.getAttribute('data-html')));this.contentDocument.close();\" allowfullscreen webkitallowfullscreen mozallowfullscreen></iframe></div></div>"
      ],
      "text/plain": [
       "<folium.folium.Map at 0x11a8fa760>"
      ]
     },
     "execution_count": 18,
     "metadata": {},
     "output_type": "execute_result"
    }
   ],
   "source": [
    "for i,row in df_new_office.iterrows():\n",
    "    offices = {\n",
    "        \"location\" : [row[\"latitude\"],row[\"longitude\"]],\n",
    "        \"tooltip\" : row[\"name\"]}\n",
    "    if row[\"latitude\"] == 37.56289 and row[\"longitude\"]== -122.324005 :\n",
    "         icon = Icon(color = \"green\",\n",
    "                    prefix = \"fa\",\n",
    "                    icon = \"coffee\",\n",
    "                    icon_color = \"black\")\n",
    "\n",
    "    Marker(**offices).add_to(maps)\n",
    "maps\n"
   ]
  },
  {
   "cell_type": "markdown",
   "id": "hidden-future",
   "metadata": {},
   "source": [
    "# 7º New office in San Mateo."
   ]
  },
  {
   "cell_type": "code",
   "execution_count": 23,
   "id": "extraordinary-sense",
   "metadata": {},
   "outputs": [
    {
     "data": {
      "text/html": [
       "<div>\n",
       "<style scoped>\n",
       "    .dataframe tbody tr th:only-of-type {\n",
       "        vertical-align: middle;\n",
       "    }\n",
       "\n",
       "    .dataframe tbody tr th {\n",
       "        vertical-align: top;\n",
       "    }\n",
       "\n",
       "    .dataframe thead th {\n",
       "        text-align: right;\n",
       "    }\n",
       "</style>\n",
       "<table border=\"1\" class=\"dataframe\">\n",
       "  <thead>\n",
       "    <tr style=\"text-align: right;\">\n",
       "      <th></th>\n",
       "      <th>city</th>\n",
       "      <th>state_code</th>\n",
       "      <th>country_code</th>\n",
       "      <th>latitude</th>\n",
       "      <th>longitude</th>\n",
       "      <th>name</th>\n",
       "      <th>category_code</th>\n",
       "      <th>number_of_employees</th>\n",
       "      <th>founded_year</th>\n",
       "      <th>total_money_raised</th>\n",
       "    </tr>\n",
       "  </thead>\n",
       "  <tbody>\n",
       "    <tr>\n",
       "      <th>0</th>\n",
       "      <td>San Mateo</td>\n",
       "      <td>CA</td>\n",
       "      <td>USA</td>\n",
       "      <td>37.566879</td>\n",
       "      <td>-122.323895</td>\n",
       "      <td>Fixya</td>\n",
       "      <td>web</td>\n",
       "      <td>30</td>\n",
       "      <td>2013</td>\n",
       "      <td>$8M</td>\n",
       "    </tr>\n",
       "  </tbody>\n",
       "</table>\n",
       "</div>"
      ],
      "text/plain": [
       "        city state_code country_code   latitude   longitude   name  \\\n",
       "0  San Mateo         CA          USA  37.566879 -122.323895  Fixya   \n",
       "\n",
       "  category_code number_of_employees founded_year total_money_raised  \n",
       "0           web                  30         2013                $8M  "
      ]
     },
     "execution_count": 23,
     "metadata": {},
     "output_type": "execute_result"
    }
   ],
   "source": [
    "df_new_office.head(1)"
   ]
  }
 ],
 "metadata": {
  "kernelspec": {
   "display_name": "Python 3",
   "language": "python",
   "name": "python3"
  },
  "language_info": {
   "codemirror_mode": {
    "name": "ipython",
    "version": 3
   },
   "file_extension": ".py",
   "mimetype": "text/x-python",
   "name": "python",
   "nbconvert_exporter": "python",
   "pygments_lexer": "ipython3",
   "version": "3.9.1"
  }
 },
 "nbformat": 4,
 "nbformat_minor": 5
}
