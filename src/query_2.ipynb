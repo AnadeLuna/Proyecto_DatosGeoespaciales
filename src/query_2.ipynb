{
 "cells": [
  {
   "cell_type": "markdown",
   "id": "alleged-powell",
   "metadata": {},
   "source": [
    "# Starbucks in San Mateo."
   ]
  },
  {
   "cell_type": "markdown",
   "id": "muslim-generation",
   "metadata": {},
   "source": [
    "## 1º Import the libraries "
   ]
  },
  {
   "cell_type": "code",
   "execution_count": 1,
   "id": "endangered-pitch",
   "metadata": {},
   "outputs": [],
   "source": [
    "import requests\n",
    "import json\n",
    "from dotenv import load_dotenv\n",
    "import os\n",
    "import sys\n",
    "import pandas as pd\n",
    "from functools import reduce\n",
    "import operator\n",
    "import geopandas as gpd\n",
    "from pymongo import MongoClient,GEOSPHERE\n",
    "import shapely.geometry"
   ]
  },
  {
   "cell_type": "markdown",
   "id": "romantic-index",
   "metadata": {},
   "source": [
    "## 2º Connect with the api."
   ]
  },
  {
   "cell_type": "code",
   "execution_count": 2,
   "id": "hungry-eight",
   "metadata": {},
   "outputs": [
    {
     "data": {
      "text/plain": [
       "True"
      ]
     },
     "execution_count": 2,
     "metadata": {},
     "output_type": "execute_result"
    }
   ],
   "source": [
    "load_dotenv()"
   ]
  },
  {
   "cell_type": "code",
   "execution_count": 3,
   "id": "uniform-presentation",
   "metadata": {},
   "outputs": [],
   "source": [
    "token1 = os.getenv(\"token1\")\n",
    "token2 = os.getenv(\"token2\")"
   ]
  },
  {
   "cell_type": "code",
   "execution_count": 4,
   "id": "latin-speech",
   "metadata": {},
   "outputs": [],
   "source": [
    "url_query = 'https://api.foursquare.com/v2/venues/explore'"
   ]
  },
  {
   "cell_type": "code",
   "execution_count": 5,
   "id": "changed-mercury",
   "metadata": {},
   "outputs": [],
   "source": [
    "parametros = {\"client_id\" : token1,\n",
    "              \"client_secret\" : token2,\n",
    "              \"v\": \"20180323\",\n",
    "              \"ll\": \"37.566879,-122.323895\",\n",
    "              \"query\": \"Starbucks\",\n",
    "              \"limit\": 5,\n",
    "             \"radius\":1000}"
   ]
  },
  {
   "cell_type": "markdown",
   "id": "square-qualification",
   "metadata": {},
   "source": [
    "## 2º Query."
   ]
  },
  {
   "cell_type": "code",
   "execution_count": 6,
   "id": "loose-monday",
   "metadata": {},
   "outputs": [],
   "source": [
    "resp = requests.get(url = url_query, params = parametros)\n",
    "data = json.loads(resp.text)\n",
    "#data"
   ]
  },
  {
   "cell_type": "code",
   "execution_count": 7,
   "id": "grand-murder",
   "metadata": {},
   "outputs": [
    {
     "data": {
      "text/plain": [
       "dict_keys(['meta', 'response'])"
      ]
     },
     "execution_count": 7,
     "metadata": {},
     "output_type": "execute_result"
    }
   ],
   "source": [
    "data.keys()"
   ]
  },
  {
   "cell_type": "code",
   "execution_count": 8,
   "id": "comfortable-librarian",
   "metadata": {},
   "outputs": [],
   "source": [
    "decoding_data = data.get(\"response\")\n",
    "#decoding_data"
   ]
  },
  {
   "cell_type": "code",
   "execution_count": 9,
   "id": "experienced-administration",
   "metadata": {},
   "outputs": [
    {
     "data": {
      "text/plain": [
       "'for k,v in decoding_data.items():\\n    print(k,v,\"\\n\")'"
      ]
     },
     "execution_count": 9,
     "metadata": {},
     "output_type": "execute_result"
    }
   ],
   "source": [
    "'''for k,v in decoding_data.items():\n",
    "    print(k,v,\"\\n\")'''"
   ]
  },
  {
   "cell_type": "code",
   "execution_count": 10,
   "id": "circular-injury",
   "metadata": {},
   "outputs": [],
   "source": [
    "decoded = decoding_data.get(\"groups\")[0]\n",
    "#decoded"
   ]
  },
  {
   "cell_type": "code",
   "execution_count": 11,
   "id": "western-burke",
   "metadata": {},
   "outputs": [],
   "source": [
    "starbucks_san_mateo = decoded.get(\"items\")"
   ]
  },
  {
   "cell_type": "code",
   "execution_count": 12,
   "id": "objective-vegetable",
   "metadata": {
    "scrolled": false
   },
   "outputs": [
    {
     "data": {
      "text/plain": [
       "'for k,v in starbucks_san_mateo[0].items():\\n    print(k,\"-->\",v,\"\\n\")'"
      ]
     },
     "execution_count": 12,
     "metadata": {},
     "output_type": "execute_result"
    }
   ],
   "source": [
    "'''for k,v in starbucks_san_mateo[0].items():\n",
    "    print(k,\"-->\",v,\"\\n\")'''"
   ]
  },
  {
   "cell_type": "code",
   "execution_count": 13,
   "id": "spoken-syndrome",
   "metadata": {},
   "outputs": [
    {
     "data": {
      "text/plain": [
       "'from functools import reduce\\nimport operator'"
      ]
     },
     "execution_count": 13,
     "metadata": {},
     "output_type": "execute_result"
    }
   ],
   "source": [
    "'''from functools import reduce\n",
    "import operator'''"
   ]
  },
  {
   "cell_type": "code",
   "execution_count": 14,
   "id": "collectible-missile",
   "metadata": {},
   "outputs": [],
   "source": [
    "m_name = [\"venue\",\"name\"]\n",
    "m_latitud = [\"venue\",\"location\",\"lat\"]\n",
    "m_longitud = [\"venue\",\"location\",\"lng\"]"
   ]
  },
  {
   "cell_type": "markdown",
   "id": "stuffed-waste",
   "metadata": {},
   "source": [
    "https://docs.python.org/3/library/operator.html"
   ]
  },
  {
   "cell_type": "code",
   "execution_count": 15,
   "id": "reasonable-disposition",
   "metadata": {},
   "outputs": [],
   "source": [
    "def getFromDict(dictionary,maps):\n",
    "    return reduce (operator.getitem,maps,dictionary)"
   ]
  },
  {
   "cell_type": "code",
   "execution_count": 16,
   "id": "relative-nutrition",
   "metadata": {},
   "outputs": [
    {
     "name": "stdout",
     "output_type": "stream",
     "text": [
      "Starbucks\n"
     ]
    }
   ],
   "source": [
    "print(getFromDict(starbucks_san_mateo[0],m_name))"
   ]
  },
  {
   "cell_type": "code",
   "execution_count": 17,
   "id": "dangerous-regard",
   "metadata": {},
   "outputs": [],
   "source": [
    "lst_starbucks_san_mateo = []\n",
    "for dic in starbucks_san_mateo:\n",
    "    starbucks = {}\n",
    "    starbucks[\"name\"] = getFromDict(dic,m_name)\n",
    "    starbucks[\"latitud\"] = getFromDict(dic,m_latitud)\n",
    "    starbucks[\"longitud\"] = getFromDict(dic,m_longitud)\n",
    "    lst_starbucks_san_mateo.append(starbucks)\n",
    "    \n",
    "#lst_starbucks_san_mateo"
   ]
  },
  {
   "cell_type": "code",
   "execution_count": 18,
   "id": "wound-steel",
   "metadata": {
    "scrolled": false
   },
   "outputs": [
    {
     "data": {
      "text/html": [
       "<div>\n",
       "<style scoped>\n",
       "    .dataframe tbody tr th:only-of-type {\n",
       "        vertical-align: middle;\n",
       "    }\n",
       "\n",
       "    .dataframe tbody tr th {\n",
       "        vertical-align: top;\n",
       "    }\n",
       "\n",
       "    .dataframe thead th {\n",
       "        text-align: right;\n",
       "    }\n",
       "</style>\n",
       "<table border=\"1\" class=\"dataframe\">\n",
       "  <thead>\n",
       "    <tr style=\"text-align: right;\">\n",
       "      <th></th>\n",
       "      <th>name</th>\n",
       "      <th>latitud</th>\n",
       "      <th>longitud</th>\n",
       "    </tr>\n",
       "  </thead>\n",
       "  <tbody>\n",
       "    <tr>\n",
       "      <th>0</th>\n",
       "      <td>Starbucks</td>\n",
       "      <td>37.562890</td>\n",
       "      <td>-122.324005</td>\n",
       "    </tr>\n",
       "    <tr>\n",
       "      <th>1</th>\n",
       "      <td>Starbucks</td>\n",
       "      <td>37.571471</td>\n",
       "      <td>-122.313622</td>\n",
       "    </tr>\n",
       "    <tr>\n",
       "      <th>2</th>\n",
       "      <td>Starbucks</td>\n",
       "      <td>37.579827</td>\n",
       "      <td>-122.333364</td>\n",
       "    </tr>\n",
       "    <tr>\n",
       "      <th>3</th>\n",
       "      <td>Starbucks</td>\n",
       "      <td>37.554230</td>\n",
       "      <td>-122.306329</td>\n",
       "    </tr>\n",
       "    <tr>\n",
       "      <th>4</th>\n",
       "      <td>Starbucks</td>\n",
       "      <td>37.576523</td>\n",
       "      <td>-122.348110</td>\n",
       "    </tr>\n",
       "  </tbody>\n",
       "</table>\n",
       "</div>"
      ],
      "text/plain": [
       "        name    latitud    longitud\n",
       "0  Starbucks  37.562890 -122.324005\n",
       "1  Starbucks  37.571471 -122.313622\n",
       "2  Starbucks  37.579827 -122.333364\n",
       "3  Starbucks  37.554230 -122.306329\n",
       "4  Starbucks  37.576523 -122.348110"
      ]
     },
     "execution_count": 18,
     "metadata": {},
     "output_type": "execute_result"
    }
   ],
   "source": [
    "df_starbucks_san_mateo = pd.DataFrame(lst_starbucks_san_mateo)\n",
    "df_starbucks_san_mateo.head()"
   ]
  },
  {
   "cell_type": "code",
   "execution_count": 19,
   "id": "received-kruger",
   "metadata": {},
   "outputs": [
    {
     "data": {
      "text/plain": [
       "'import geopandas as gpd'"
      ]
     },
     "execution_count": 19,
     "metadata": {},
     "output_type": "execute_result"
    }
   ],
   "source": [
    "'''import geopandas as gpd'''"
   ]
  },
  {
   "cell_type": "code",
   "execution_count": 20,
   "id": "amateur-scanning",
   "metadata": {
    "scrolled": true
   },
   "outputs": [
    {
     "data": {
      "text/html": [
       "<div>\n",
       "<style scoped>\n",
       "    .dataframe tbody tr th:only-of-type {\n",
       "        vertical-align: middle;\n",
       "    }\n",
       "\n",
       "    .dataframe tbody tr th {\n",
       "        vertical-align: top;\n",
       "    }\n",
       "\n",
       "    .dataframe thead th {\n",
       "        text-align: right;\n",
       "    }\n",
       "</style>\n",
       "<table border=\"1\" class=\"dataframe\">\n",
       "  <thead>\n",
       "    <tr style=\"text-align: right;\">\n",
       "      <th></th>\n",
       "      <th>name</th>\n",
       "      <th>latitud</th>\n",
       "      <th>longitud</th>\n",
       "      <th>geometry</th>\n",
       "    </tr>\n",
       "  </thead>\n",
       "  <tbody>\n",
       "    <tr>\n",
       "      <th>0</th>\n",
       "      <td>Starbucks</td>\n",
       "      <td>37.562890</td>\n",
       "      <td>-122.324005</td>\n",
       "      <td>POINT (-122.32400 37.56289)</td>\n",
       "    </tr>\n",
       "    <tr>\n",
       "      <th>1</th>\n",
       "      <td>Starbucks</td>\n",
       "      <td>37.571471</td>\n",
       "      <td>-122.313622</td>\n",
       "      <td>POINT (-122.31362 37.57147)</td>\n",
       "    </tr>\n",
       "    <tr>\n",
       "      <th>2</th>\n",
       "      <td>Starbucks</td>\n",
       "      <td>37.579827</td>\n",
       "      <td>-122.333364</td>\n",
       "      <td>POINT (-122.33336 37.57983)</td>\n",
       "    </tr>\n",
       "    <tr>\n",
       "      <th>3</th>\n",
       "      <td>Starbucks</td>\n",
       "      <td>37.554230</td>\n",
       "      <td>-122.306329</td>\n",
       "      <td>POINT (-122.30633 37.55423)</td>\n",
       "    </tr>\n",
       "    <tr>\n",
       "      <th>4</th>\n",
       "      <td>Starbucks</td>\n",
       "      <td>37.576523</td>\n",
       "      <td>-122.348110</td>\n",
       "      <td>POINT (-122.34811 37.57652)</td>\n",
       "    </tr>\n",
       "  </tbody>\n",
       "</table>\n",
       "</div>"
      ],
      "text/plain": [
       "        name    latitud    longitud                     geometry\n",
       "0  Starbucks  37.562890 -122.324005  POINT (-122.32400 37.56289)\n",
       "1  Starbucks  37.571471 -122.313622  POINT (-122.31362 37.57147)\n",
       "2  Starbucks  37.579827 -122.333364  POINT (-122.33336 37.57983)\n",
       "3  Starbucks  37.554230 -122.306329  POINT (-122.30633 37.55423)\n",
       "4  Starbucks  37.576523 -122.348110  POINT (-122.34811 37.57652)"
      ]
     },
     "execution_count": 20,
     "metadata": {},
     "output_type": "execute_result"
    }
   ],
   "source": [
    "gdf_starbucks_san_mateo = gpd.GeoDataFrame(df_starbucks_san_mateo, geometry = gpd.points_from_xy(df_starbucks_san_mateo.longitud,df_starbucks_san_mateo.latitud))\n",
    "gdf_starbucks_san_mateo"
   ]
  },
  {
   "cell_type": "code",
   "execution_count": 21,
   "id": "dried-martial",
   "metadata": {},
   "outputs": [
    {
     "data": {
      "text/plain": [
       "'from pymongo import MongoClient,GEOSPHERE\\nimport shapely.geometry'"
      ]
     },
     "execution_count": 21,
     "metadata": {},
     "output_type": "execute_result"
    }
   ],
   "source": [
    "'''from pymongo import MongoClient,GEOSPHERE\n",
    "import shapely.geometry'''"
   ]
  },
  {
   "cell_type": "code",
   "execution_count": 22,
   "id": "young-evolution",
   "metadata": {
    "scrolled": false
   },
   "outputs": [
    {
     "name": "stderr",
     "output_type": "stream",
     "text": [
      "/usr/local/lib/python3.9/site-packages/geopandas/geodataframe.py:852: UserWarning: Geometry column does not contain geometry.\n",
      "  warnings.warn(\"Geometry column does not contain geometry.\")\n"
     ]
    },
    {
     "data": {
      "text/html": [
       "<div>\n",
       "<style scoped>\n",
       "    .dataframe tbody tr th:only-of-type {\n",
       "        vertical-align: middle;\n",
       "    }\n",
       "\n",
       "    .dataframe tbody tr th {\n",
       "        vertical-align: top;\n",
       "    }\n",
       "\n",
       "    .dataframe thead th {\n",
       "        text-align: right;\n",
       "    }\n",
       "</style>\n",
       "<table border=\"1\" class=\"dataframe\">\n",
       "  <thead>\n",
       "    <tr style=\"text-align: right;\">\n",
       "      <th></th>\n",
       "      <th>name</th>\n",
       "      <th>latitud</th>\n",
       "      <th>longitud</th>\n",
       "      <th>geometry</th>\n",
       "    </tr>\n",
       "  </thead>\n",
       "  <tbody>\n",
       "    <tr>\n",
       "      <th>0</th>\n",
       "      <td>Starbucks</td>\n",
       "      <td>37.562890</td>\n",
       "      <td>-122.324005</td>\n",
       "      <td>{'type': 'Point', 'coordinates': (-122.324005,...</td>\n",
       "    </tr>\n",
       "    <tr>\n",
       "      <th>1</th>\n",
       "      <td>Starbucks</td>\n",
       "      <td>37.571471</td>\n",
       "      <td>-122.313622</td>\n",
       "      <td>{'type': 'Point', 'coordinates': (-122.3136221...</td>\n",
       "    </tr>\n",
       "    <tr>\n",
       "      <th>2</th>\n",
       "      <td>Starbucks</td>\n",
       "      <td>37.579827</td>\n",
       "      <td>-122.333364</td>\n",
       "      <td>{'type': 'Point', 'coordinates': (-122.3333638...</td>\n",
       "    </tr>\n",
       "    <tr>\n",
       "      <th>3</th>\n",
       "      <td>Starbucks</td>\n",
       "      <td>37.554230</td>\n",
       "      <td>-122.306329</td>\n",
       "      <td>{'type': 'Point', 'coordinates': (-122.306329,...</td>\n",
       "    </tr>\n",
       "    <tr>\n",
       "      <th>4</th>\n",
       "      <td>Starbucks</td>\n",
       "      <td>37.576523</td>\n",
       "      <td>-122.348110</td>\n",
       "      <td>{'type': 'Point', 'coordinates': (-122.34811, ...</td>\n",
       "    </tr>\n",
       "  </tbody>\n",
       "</table>\n",
       "</div>"
      ],
      "text/plain": [
       "        name    latitud    longitud  \\\n",
       "0  Starbucks  37.562890 -122.324005   \n",
       "1  Starbucks  37.571471 -122.313622   \n",
       "2  Starbucks  37.579827 -122.333364   \n",
       "3  Starbucks  37.554230 -122.306329   \n",
       "4  Starbucks  37.576523 -122.348110   \n",
       "\n",
       "                                            geometry  \n",
       "0  {'type': 'Point', 'coordinates': (-122.324005,...  \n",
       "1  {'type': 'Point', 'coordinates': (-122.3136221...  \n",
       "2  {'type': 'Point', 'coordinates': (-122.3333638...  \n",
       "3  {'type': 'Point', 'coordinates': (-122.306329,...  \n",
       "4  {'type': 'Point', 'coordinates': (-122.34811, ...  "
      ]
     },
     "execution_count": 22,
     "metadata": {},
     "output_type": "execute_result"
    }
   ],
   "source": [
    "gdf_starbucks_san_mateo[\"geometry\"] = gdf_starbucks_san_mateo[\"geometry\"].apply(lambda x: shapely.geometry.mapping(x))\n",
    "gdf_starbucks_san_mateo"
   ]
  },
  {
   "cell_type": "code",
   "execution_count": 23,
   "id": "opposite-cotton",
   "metadata": {},
   "outputs": [
    {
     "data": {
      "text/plain": [
       "dict"
      ]
     },
     "execution_count": 23,
     "metadata": {},
     "output_type": "execute_result"
    }
   ],
   "source": [
    "type(gdf_starbucks_san_mateo.loc[0,\"geometry\"])"
   ]
  },
  {
   "cell_type": "markdown",
   "id": "popular-ministry",
   "metadata": {},
   "source": [
    "## 3º Import the query to Mongo in a new collection."
   ]
  },
  {
   "cell_type": "code",
   "execution_count": 24,
   "id": "growing-torture",
   "metadata": {
    "scrolled": true
   },
   "outputs": [
    {
     "data": {
      "text/plain": [
       "'geometry_2dsphere'"
      ]
     },
     "execution_count": 24,
     "metadata": {},
     "output_type": "execute_result"
    }
   ],
   "source": [
    "client = MongoClient() \n",
    "db = client.ironhack\n",
    "collection = db.starbucks \n",
    "collection.create_index ([(\"geometry\", GEOSPHERE)])"
   ]
  },
  {
   "cell_type": "code",
   "execution_count": 25,
   "id": "floating-construction",
   "metadata": {
    "scrolled": true
   },
   "outputs": [
    {
     "data": {
      "text/plain": [
       "{'name': 'Starbucks',\n",
       " 'latitud': 37.56289,\n",
       " 'longitud': -122.324005,\n",
       " 'geometry': {'type': 'Point', 'coordinates': (-122.324005, 37.56289)}}"
      ]
     },
     "execution_count": 25,
     "metadata": {},
     "output_type": "execute_result"
    }
   ],
   "source": [
    "data = gdf_starbucks_san_mateo.to_dict(orient='records')\n",
    "data[0]"
   ]
  },
  {
   "cell_type": "code",
   "execution_count": 26,
   "id": "imperial-arctic",
   "metadata": {
    "scrolled": false
   },
   "outputs": [
    {
     "data": {
      "text/plain": [
       "<pymongo.results.InsertManyResult at 0x1261c4140>"
      ]
     },
     "execution_count": 26,
     "metadata": {},
     "output_type": "execute_result"
    }
   ],
   "source": [
    "collection.insert_many(data)"
   ]
  },
  {
   "cell_type": "markdown",
   "id": "closed-dating",
   "metadata": {},
   "source": [
    "## 4º Select the nearest Starbucks. "
   ]
  },
  {
   "cell_type": "code",
   "execution_count": 27,
   "id": "forty-ministry",
   "metadata": {
    "scrolled": true
   },
   "outputs": [
    {
     "data": {
      "text/plain": [
       "Collection(Database(MongoClient(host=['localhost:27017'], document_class=dict, tz_aware=False, connect=True), 'ironhack'), 'starbucks')"
      ]
     },
     "execution_count": 27,
     "metadata": {},
     "output_type": "execute_result"
    }
   ],
   "source": [
    "#Call to the Collection.\n",
    "db.starbucks"
   ]
  },
  {
   "cell_type": "code",
   "execution_count": 28,
   "id": "asian-blank",
   "metadata": {},
   "outputs": [],
   "source": [
    "filt = {\"geometry\":{\"$near\":{\"type\":\"Point\",\"coordinates\":[-122.323895,37.566879]}}}\n",
    "proyect = {\"_id\":0,\"name\":1,\"latitud\":1,\"longitud\":1}\n",
    "\n",
    "result = db.starbucks.find(filt,proyect).limit(1)\n",
    "starbuck = list(result)"
   ]
  },
  {
   "cell_type": "code",
   "execution_count": 29,
   "id": "directed-recipe",
   "metadata": {},
   "outputs": [
    {
     "data": {
      "text/plain": [
       "[{'name': 'Starbucks', 'latitud': 37.56289, 'longitud': -122.324005}]"
      ]
     },
     "execution_count": 29,
     "metadata": {},
     "output_type": "execute_result"
    }
   ],
   "source": [
    "starbuck"
   ]
  },
  {
   "cell_type": "markdown",
   "id": "understanding-service",
   "metadata": {},
   "source": [
    "## 5º Map with all Starbucks.\n"
   ]
  },
  {
   "cell_type": "code",
   "execution_count": 30,
   "id": "obvious-genealogy",
   "metadata": {},
   "outputs": [],
   "source": [
    "import folium\n",
    "from folium import Choropleth, Circle, Marker, Icon, Map\n",
    "from folium.plugins import HeatMap, MarkerCluster\n",
    "import pandas as pd"
   ]
  },
  {
   "cell_type": "code",
   "execution_count": 31,
   "id": "surgical-afghanistan",
   "metadata": {},
   "outputs": [],
   "source": [
    "inicial_lat = 37.566879\n",
    "inicial_long = -122.323895"
   ]
  },
  {
   "cell_type": "code",
   "execution_count": 32,
   "id": "measured-harvard",
   "metadata": {},
   "outputs": [],
   "source": [
    "maps = folium.Map(location = [inicial_lat,inicial_long], zoom_start=15)"
   ]
  },
  {
   "cell_type": "code",
   "execution_count": 33,
   "id": "speaking-mercury",
   "metadata": {
    "scrolled": true
   },
   "outputs": [
    {
     "data": {
      "text/plain": [
       "<folium.map.Marker at 0x1269a5b20>"
      ]
     },
     "execution_count": 33,
     "metadata": {},
     "output_type": "execute_result"
    }
   ],
   "source": [
    "San_Mateo = Marker(location = [inicial_lat,inicial_long],tooltip=\"New office\")\n",
    "San_Mateo.add_to(maps)"
   ]
  },
  {
   "cell_type": "code",
   "execution_count": 34,
   "id": "retained-powell",
   "metadata": {
    "scrolled": false
   },
   "outputs": [
    {
     "data": {
      "text/html": [
       "<div style=\"width:100%;\"><div style=\"position:relative;width:100%;height:0;padding-bottom:60%;\"><span style=\"color:#565656\">Make this Notebook Trusted to load map: File -> Trust Notebook</span><iframe src=\"about:blank\" style=\"position:absolute;width:100%;height:100%;left:0;top:0;border:none !important;\" data-html=%3C%21DOCTYPE%20html%3E%0A%3Chead%3E%20%20%20%20%0A%20%20%20%20%3Cmeta%20http-equiv%3D%22content-type%22%20content%3D%22text/html%3B%20charset%3DUTF-8%22%20/%3E%0A%20%20%20%20%0A%20%20%20%20%20%20%20%20%3Cscript%3E%0A%20%20%20%20%20%20%20%20%20%20%20%20L_NO_TOUCH%20%3D%20false%3B%0A%20%20%20%20%20%20%20%20%20%20%20%20L_DISABLE_3D%20%3D%20false%3B%0A%20%20%20%20%20%20%20%20%3C/script%3E%0A%20%20%20%20%0A%20%20%20%20%3Cstyle%3Ehtml%2C%20body%20%7Bwidth%3A%20100%25%3Bheight%3A%20100%25%3Bmargin%3A%200%3Bpadding%3A%200%3B%7D%3C/style%3E%0A%20%20%20%20%3Cstyle%3E%23map%20%7Bposition%3Aabsolute%3Btop%3A0%3Bbottom%3A0%3Bright%3A0%3Bleft%3A0%3B%7D%3C/style%3E%0A%20%20%20%20%3Cscript%20src%3D%22https%3A//cdn.jsdelivr.net/npm/leaflet%401.6.0/dist/leaflet.js%22%3E%3C/script%3E%0A%20%20%20%20%3Cscript%20src%3D%22https%3A//code.jquery.com/jquery-1.12.4.min.js%22%3E%3C/script%3E%0A%20%20%20%20%3Cscript%20src%3D%22https%3A//maxcdn.bootstrapcdn.com/bootstrap/3.2.0/js/bootstrap.min.js%22%3E%3C/script%3E%0A%20%20%20%20%3Cscript%20src%3D%22https%3A//cdnjs.cloudflare.com/ajax/libs/Leaflet.awesome-markers/2.0.2/leaflet.awesome-markers.js%22%3E%3C/script%3E%0A%20%20%20%20%3Clink%20rel%3D%22stylesheet%22%20href%3D%22https%3A//cdn.jsdelivr.net/npm/leaflet%401.6.0/dist/leaflet.css%22/%3E%0A%20%20%20%20%3Clink%20rel%3D%22stylesheet%22%20href%3D%22https%3A//maxcdn.bootstrapcdn.com/bootstrap/3.2.0/css/bootstrap.min.css%22/%3E%0A%20%20%20%20%3Clink%20rel%3D%22stylesheet%22%20href%3D%22https%3A//maxcdn.bootstrapcdn.com/bootstrap/3.2.0/css/bootstrap-theme.min.css%22/%3E%0A%20%20%20%20%3Clink%20rel%3D%22stylesheet%22%20href%3D%22https%3A//maxcdn.bootstrapcdn.com/font-awesome/4.6.3/css/font-awesome.min.css%22/%3E%0A%20%20%20%20%3Clink%20rel%3D%22stylesheet%22%20href%3D%22https%3A//cdnjs.cloudflare.com/ajax/libs/Leaflet.awesome-markers/2.0.2/leaflet.awesome-markers.css%22/%3E%0A%20%20%20%20%3Clink%20rel%3D%22stylesheet%22%20href%3D%22https%3A//cdn.jsdelivr.net/gh/python-visualization/folium/folium/templates/leaflet.awesome.rotate.min.css%22/%3E%0A%20%20%20%20%0A%20%20%20%20%20%20%20%20%20%20%20%20%3Cmeta%20name%3D%22viewport%22%20content%3D%22width%3Ddevice-width%2C%0A%20%20%20%20%20%20%20%20%20%20%20%20%20%20%20%20initial-scale%3D1.0%2C%20maximum-scale%3D1.0%2C%20user-scalable%3Dno%22%20/%3E%0A%20%20%20%20%20%20%20%20%20%20%20%20%3Cstyle%3E%0A%20%20%20%20%20%20%20%20%20%20%20%20%20%20%20%20%23map_c908e12f84f44373968d64b64f71c04e%20%7B%0A%20%20%20%20%20%20%20%20%20%20%20%20%20%20%20%20%20%20%20%20position%3A%20relative%3B%0A%20%20%20%20%20%20%20%20%20%20%20%20%20%20%20%20%20%20%20%20width%3A%20100.0%25%3B%0A%20%20%20%20%20%20%20%20%20%20%20%20%20%20%20%20%20%20%20%20height%3A%20100.0%25%3B%0A%20%20%20%20%20%20%20%20%20%20%20%20%20%20%20%20%20%20%20%20left%3A%200.0%25%3B%0A%20%20%20%20%20%20%20%20%20%20%20%20%20%20%20%20%20%20%20%20top%3A%200.0%25%3B%0A%20%20%20%20%20%20%20%20%20%20%20%20%20%20%20%20%7D%0A%20%20%20%20%20%20%20%20%20%20%20%20%3C/style%3E%0A%20%20%20%20%20%20%20%20%0A%3C/head%3E%0A%3Cbody%3E%20%20%20%20%0A%20%20%20%20%0A%20%20%20%20%20%20%20%20%20%20%20%20%3Cdiv%20class%3D%22folium-map%22%20id%3D%22map_c908e12f84f44373968d64b64f71c04e%22%20%3E%3C/div%3E%0A%20%20%20%20%20%20%20%20%0A%3C/body%3E%0A%3Cscript%3E%20%20%20%20%0A%20%20%20%20%0A%20%20%20%20%20%20%20%20%20%20%20%20var%20map_c908e12f84f44373968d64b64f71c04e%20%3D%20L.map%28%0A%20%20%20%20%20%20%20%20%20%20%20%20%20%20%20%20%22map_c908e12f84f44373968d64b64f71c04e%22%2C%0A%20%20%20%20%20%20%20%20%20%20%20%20%20%20%20%20%7B%0A%20%20%20%20%20%20%20%20%20%20%20%20%20%20%20%20%20%20%20%20center%3A%20%5B37.566879%2C%20-122.323895%5D%2C%0A%20%20%20%20%20%20%20%20%20%20%20%20%20%20%20%20%20%20%20%20crs%3A%20L.CRS.EPSG3857%2C%0A%20%20%20%20%20%20%20%20%20%20%20%20%20%20%20%20%20%20%20%20zoom%3A%2015%2C%0A%20%20%20%20%20%20%20%20%20%20%20%20%20%20%20%20%20%20%20%20zoomControl%3A%20true%2C%0A%20%20%20%20%20%20%20%20%20%20%20%20%20%20%20%20%20%20%20%20preferCanvas%3A%20false%2C%0A%20%20%20%20%20%20%20%20%20%20%20%20%20%20%20%20%7D%0A%20%20%20%20%20%20%20%20%20%20%20%20%29%3B%0A%0A%20%20%20%20%20%20%20%20%20%20%20%20%0A%0A%20%20%20%20%20%20%20%20%0A%20%20%20%20%0A%20%20%20%20%20%20%20%20%20%20%20%20var%20tile_layer_24f15b79492c48d3922cec73cdf8daf2%20%3D%20L.tileLayer%28%0A%20%20%20%20%20%20%20%20%20%20%20%20%20%20%20%20%22https%3A//%7Bs%7D.tile.openstreetmap.org/%7Bz%7D/%7Bx%7D/%7By%7D.png%22%2C%0A%20%20%20%20%20%20%20%20%20%20%20%20%20%20%20%20%7B%22attribution%22%3A%20%22Data%20by%20%5Cu0026copy%3B%20%5Cu003ca%20href%3D%5C%22http%3A//openstreetmap.org%5C%22%5Cu003eOpenStreetMap%5Cu003c/a%5Cu003e%2C%20under%20%5Cu003ca%20href%3D%5C%22http%3A//www.openstreetmap.org/copyright%5C%22%5Cu003eODbL%5Cu003c/a%5Cu003e.%22%2C%20%22detectRetina%22%3A%20false%2C%20%22maxNativeZoom%22%3A%2018%2C%20%22maxZoom%22%3A%2018%2C%20%22minZoom%22%3A%200%2C%20%22noWrap%22%3A%20false%2C%20%22opacity%22%3A%201%2C%20%22subdomains%22%3A%20%22abc%22%2C%20%22tms%22%3A%20false%7D%0A%20%20%20%20%20%20%20%20%20%20%20%20%29.addTo%28map_c908e12f84f44373968d64b64f71c04e%29%3B%0A%20%20%20%20%20%20%20%20%0A%20%20%20%20%0A%20%20%20%20%20%20%20%20%20%20%20%20var%20marker_8c26c59e420a4a79ad0c3e2277435ea7%20%3D%20L.marker%28%0A%20%20%20%20%20%20%20%20%20%20%20%20%20%20%20%20%5B37.566879%2C%20-122.323895%5D%2C%0A%20%20%20%20%20%20%20%20%20%20%20%20%20%20%20%20%7B%7D%0A%20%20%20%20%20%20%20%20%20%20%20%20%29.addTo%28map_c908e12f84f44373968d64b64f71c04e%29%3B%0A%20%20%20%20%20%20%20%20%0A%20%20%20%20%0A%20%20%20%20%20%20%20%20%20%20%20%20marker_8c26c59e420a4a79ad0c3e2277435ea7.bindTooltip%28%0A%20%20%20%20%20%20%20%20%20%20%20%20%20%20%20%20%60%3Cdiv%3E%0A%20%20%20%20%20%20%20%20%20%20%20%20%20%20%20%20%20%20%20%20%20New%20office%0A%20%20%20%20%20%20%20%20%20%20%20%20%20%20%20%20%20%3C/div%3E%60%2C%0A%20%20%20%20%20%20%20%20%20%20%20%20%20%20%20%20%7B%22sticky%22%3A%20true%7D%0A%20%20%20%20%20%20%20%20%20%20%20%20%29%3B%0A%20%20%20%20%20%20%20%20%0A%20%20%20%20%0A%20%20%20%20%20%20%20%20%20%20%20%20var%20marker_2c2b6ac808d44d2aa41a5c395e5200bd%20%3D%20L.marker%28%0A%20%20%20%20%20%20%20%20%20%20%20%20%20%20%20%20%5B37.56289%2C%20-122.324005%5D%2C%0A%20%20%20%20%20%20%20%20%20%20%20%20%20%20%20%20%7B%7D%0A%20%20%20%20%20%20%20%20%20%20%20%20%29.addTo%28map_c908e12f84f44373968d64b64f71c04e%29%3B%0A%20%20%20%20%20%20%20%20%0A%20%20%20%20%0A%20%20%20%20%20%20%20%20%20%20%20%20var%20icon_c5859ea208f1413581bffb9e74c962b0%20%3D%20L.AwesomeMarkers.icon%28%0A%20%20%20%20%20%20%20%20%20%20%20%20%20%20%20%20%7B%22extraClasses%22%3A%20%22fa-rotate-0%22%2C%20%22icon%22%3A%20%22coffee%22%2C%20%22iconColor%22%3A%20%22black%22%2C%20%22markerColor%22%3A%20%22green%22%2C%20%22prefix%22%3A%20%22fa%22%7D%0A%20%20%20%20%20%20%20%20%20%20%20%20%29%3B%0A%20%20%20%20%20%20%20%20%20%20%20%20marker_2c2b6ac808d44d2aa41a5c395e5200bd.setIcon%28icon_c5859ea208f1413581bffb9e74c962b0%29%3B%0A%20%20%20%20%20%20%20%20%0A%20%20%20%20%0A%20%20%20%20%20%20%20%20%20%20%20%20marker_2c2b6ac808d44d2aa41a5c395e5200bd.bindTooltip%28%0A%20%20%20%20%20%20%20%20%20%20%20%20%20%20%20%20%60%3Cdiv%3E%0A%20%20%20%20%20%20%20%20%20%20%20%20%20%20%20%20%20%20%20%20%20Starbucks%0A%20%20%20%20%20%20%20%20%20%20%20%20%20%20%20%20%20%3C/div%3E%60%2C%0A%20%20%20%20%20%20%20%20%20%20%20%20%20%20%20%20%7B%22sticky%22%3A%20true%7D%0A%20%20%20%20%20%20%20%20%20%20%20%20%29%3B%0A%20%20%20%20%20%20%20%20%0A%20%20%20%20%0A%20%20%20%20%20%20%20%20%20%20%20%20var%20marker_aeef67489a354ff7bb33ba44c15e3d20%20%3D%20L.marker%28%0A%20%20%20%20%20%20%20%20%20%20%20%20%20%20%20%20%5B37.571470632762704%2C%20-122.31362217495305%5D%2C%0A%20%20%20%20%20%20%20%20%20%20%20%20%20%20%20%20%7B%7D%0A%20%20%20%20%20%20%20%20%20%20%20%20%29.addTo%28map_c908e12f84f44373968d64b64f71c04e%29%3B%0A%20%20%20%20%20%20%20%20%0A%20%20%20%20%0A%20%20%20%20%20%20%20%20%20%20%20%20var%20icon_dcc53343c8d646018f31cbc0f9b5582c%20%3D%20L.AwesomeMarkers.icon%28%0A%20%20%20%20%20%20%20%20%20%20%20%20%20%20%20%20%7B%22extraClasses%22%3A%20%22fa-rotate-0%22%2C%20%22icon%22%3A%20%22coffee%22%2C%20%22iconColor%22%3A%20%22black%22%2C%20%22markerColor%22%3A%20%22red%22%2C%20%22prefix%22%3A%20%22fa%22%7D%0A%20%20%20%20%20%20%20%20%20%20%20%20%29%3B%0A%20%20%20%20%20%20%20%20%20%20%20%20marker_aeef67489a354ff7bb33ba44c15e3d20.setIcon%28icon_dcc53343c8d646018f31cbc0f9b5582c%29%3B%0A%20%20%20%20%20%20%20%20%0A%20%20%20%20%0A%20%20%20%20%20%20%20%20%20%20%20%20marker_aeef67489a354ff7bb33ba44c15e3d20.bindTooltip%28%0A%20%20%20%20%20%20%20%20%20%20%20%20%20%20%20%20%60%3Cdiv%3E%0A%20%20%20%20%20%20%20%20%20%20%20%20%20%20%20%20%20%20%20%20%20Starbucks%0A%20%20%20%20%20%20%20%20%20%20%20%20%20%20%20%20%20%3C/div%3E%60%2C%0A%20%20%20%20%20%20%20%20%20%20%20%20%20%20%20%20%7B%22sticky%22%3A%20true%7D%0A%20%20%20%20%20%20%20%20%20%20%20%20%29%3B%0A%20%20%20%20%20%20%20%20%0A%20%20%20%20%0A%20%20%20%20%20%20%20%20%20%20%20%20var%20marker_ce5d3291d9c34a5a93b11f72d1d2ecbe%20%3D%20L.marker%28%0A%20%20%20%20%20%20%20%20%20%20%20%20%20%20%20%20%5B37.5798265157948%2C%20-122.33336387367521%5D%2C%0A%20%20%20%20%20%20%20%20%20%20%20%20%20%20%20%20%7B%7D%0A%20%20%20%20%20%20%20%20%20%20%20%20%29.addTo%28map_c908e12f84f44373968d64b64f71c04e%29%3B%0A%20%20%20%20%20%20%20%20%0A%20%20%20%20%0A%20%20%20%20%20%20%20%20%20%20%20%20var%20icon_3d9c07f49bee4792ade5b381ef9f4e74%20%3D%20L.AwesomeMarkers.icon%28%0A%20%20%20%20%20%20%20%20%20%20%20%20%20%20%20%20%7B%22extraClasses%22%3A%20%22fa-rotate-0%22%2C%20%22icon%22%3A%20%22coffee%22%2C%20%22iconColor%22%3A%20%22black%22%2C%20%22markerColor%22%3A%20%22red%22%2C%20%22prefix%22%3A%20%22fa%22%7D%0A%20%20%20%20%20%20%20%20%20%20%20%20%29%3B%0A%20%20%20%20%20%20%20%20%20%20%20%20marker_ce5d3291d9c34a5a93b11f72d1d2ecbe.setIcon%28icon_3d9c07f49bee4792ade5b381ef9f4e74%29%3B%0A%20%20%20%20%20%20%20%20%0A%20%20%20%20%0A%20%20%20%20%20%20%20%20%20%20%20%20marker_ce5d3291d9c34a5a93b11f72d1d2ecbe.bindTooltip%28%0A%20%20%20%20%20%20%20%20%20%20%20%20%20%20%20%20%60%3Cdiv%3E%0A%20%20%20%20%20%20%20%20%20%20%20%20%20%20%20%20%20%20%20%20%20Starbucks%0A%20%20%20%20%20%20%20%20%20%20%20%20%20%20%20%20%20%3C/div%3E%60%2C%0A%20%20%20%20%20%20%20%20%20%20%20%20%20%20%20%20%7B%22sticky%22%3A%20true%7D%0A%20%20%20%20%20%20%20%20%20%20%20%20%29%3B%0A%20%20%20%20%20%20%20%20%0A%20%20%20%20%0A%20%20%20%20%20%20%20%20%20%20%20%20var%20marker_a1679dd72de64c71821f5d3b2648bd62%20%3D%20L.marker%28%0A%20%20%20%20%20%20%20%20%20%20%20%20%20%20%20%20%5B37.55423%2C%20-122.306329%5D%2C%0A%20%20%20%20%20%20%20%20%20%20%20%20%20%20%20%20%7B%7D%0A%20%20%20%20%20%20%20%20%20%20%20%20%29.addTo%28map_c908e12f84f44373968d64b64f71c04e%29%3B%0A%20%20%20%20%20%20%20%20%0A%20%20%20%20%0A%20%20%20%20%20%20%20%20%20%20%20%20var%20icon_f3de040d622e4c14b4cb5f3d321668e4%20%3D%20L.AwesomeMarkers.icon%28%0A%20%20%20%20%20%20%20%20%20%20%20%20%20%20%20%20%7B%22extraClasses%22%3A%20%22fa-rotate-0%22%2C%20%22icon%22%3A%20%22coffee%22%2C%20%22iconColor%22%3A%20%22black%22%2C%20%22markerColor%22%3A%20%22red%22%2C%20%22prefix%22%3A%20%22fa%22%7D%0A%20%20%20%20%20%20%20%20%20%20%20%20%29%3B%0A%20%20%20%20%20%20%20%20%20%20%20%20marker_a1679dd72de64c71821f5d3b2648bd62.setIcon%28icon_f3de040d622e4c14b4cb5f3d321668e4%29%3B%0A%20%20%20%20%20%20%20%20%0A%20%20%20%20%0A%20%20%20%20%20%20%20%20%20%20%20%20marker_a1679dd72de64c71821f5d3b2648bd62.bindTooltip%28%0A%20%20%20%20%20%20%20%20%20%20%20%20%20%20%20%20%60%3Cdiv%3E%0A%20%20%20%20%20%20%20%20%20%20%20%20%20%20%20%20%20%20%20%20%20Starbucks%0A%20%20%20%20%20%20%20%20%20%20%20%20%20%20%20%20%20%3C/div%3E%60%2C%0A%20%20%20%20%20%20%20%20%20%20%20%20%20%20%20%20%7B%22sticky%22%3A%20true%7D%0A%20%20%20%20%20%20%20%20%20%20%20%20%29%3B%0A%20%20%20%20%20%20%20%20%0A%20%20%20%20%0A%20%20%20%20%20%20%20%20%20%20%20%20var%20marker_9d7eb60dd95e470bb3ced80e30ba5c87%20%3D%20L.marker%28%0A%20%20%20%20%20%20%20%20%20%20%20%20%20%20%20%20%5B37.576523%2C%20-122.34811%5D%2C%0A%20%20%20%20%20%20%20%20%20%20%20%20%20%20%20%20%7B%7D%0A%20%20%20%20%20%20%20%20%20%20%20%20%29.addTo%28map_c908e12f84f44373968d64b64f71c04e%29%3B%0A%20%20%20%20%20%20%20%20%0A%20%20%20%20%0A%20%20%20%20%20%20%20%20%20%20%20%20var%20icon_acf4ded47cec472c969753e8cdfbc3db%20%3D%20L.AwesomeMarkers.icon%28%0A%20%20%20%20%20%20%20%20%20%20%20%20%20%20%20%20%7B%22extraClasses%22%3A%20%22fa-rotate-0%22%2C%20%22icon%22%3A%20%22coffee%22%2C%20%22iconColor%22%3A%20%22black%22%2C%20%22markerColor%22%3A%20%22red%22%2C%20%22prefix%22%3A%20%22fa%22%7D%0A%20%20%20%20%20%20%20%20%20%20%20%20%29%3B%0A%20%20%20%20%20%20%20%20%20%20%20%20marker_9d7eb60dd95e470bb3ced80e30ba5c87.setIcon%28icon_acf4ded47cec472c969753e8cdfbc3db%29%3B%0A%20%20%20%20%20%20%20%20%0A%20%20%20%20%0A%20%20%20%20%20%20%20%20%20%20%20%20marker_9d7eb60dd95e470bb3ced80e30ba5c87.bindTooltip%28%0A%20%20%20%20%20%20%20%20%20%20%20%20%20%20%20%20%60%3Cdiv%3E%0A%20%20%20%20%20%20%20%20%20%20%20%20%20%20%20%20%20%20%20%20%20Starbucks%0A%20%20%20%20%20%20%20%20%20%20%20%20%20%20%20%20%20%3C/div%3E%60%2C%0A%20%20%20%20%20%20%20%20%20%20%20%20%20%20%20%20%7B%22sticky%22%3A%20true%7D%0A%20%20%20%20%20%20%20%20%20%20%20%20%29%3B%0A%20%20%20%20%20%20%20%20%0A%3C/script%3E onload=\"this.contentDocument.open();this.contentDocument.write(    decodeURIComponent(this.getAttribute('data-html')));this.contentDocument.close();\" allowfullscreen webkitallowfullscreen mozallowfullscreen></iframe></div></div>"
      ],
      "text/plain": [
       "<folium.folium.Map at 0x126361a30>"
      ]
     },
     "execution_count": 34,
     "metadata": {},
     "output_type": "execute_result"
    }
   ],
   "source": [
    "for i,row in df_starbucks_san_mateo.iterrows():\n",
    "    starbucks = {\n",
    "        \"location\" : [row[\"latitud\"],row[\"longitud\"]],\n",
    "        \"tooltip\" : row[\"name\"]    \n",
    "    }\n",
    "    if row[\"latitud\"] == 37.56289 and row[\"longitud\"]== -122.324005 :\n",
    "        icon = Icon(color = \"green\",\n",
    "                    prefix = \"fa\",\n",
    "                    icon = \"coffee\",\n",
    "                    icon_color = \"black\"\n",
    "        )\n",
    "    else:\n",
    "        icon = Icon(color = \"red\",\n",
    "                    prefix = \"fa\",\n",
    "                    icon = \"coffee\",\n",
    "                    icon_color = \"black\"\n",
    "        )\n",
    " \n",
    "    Marker(**starbucks,icon = icon).add_to(maps)\n",
    "maps"
   ]
  },
  {
   "cell_type": "code",
   "execution_count": null,
   "id": "funded-caution",
   "metadata": {},
   "outputs": [],
   "source": []
  }
 ],
 "metadata": {
  "kernelspec": {
   "display_name": "Python 3",
   "language": "python",
   "name": "python3"
  },
  "language_info": {
   "codemirror_mode": {
    "name": "ipython",
    "version": 3
   },
   "file_extension": ".py",
   "mimetype": "text/x-python",
   "name": "python",
   "nbconvert_exporter": "python",
   "pygments_lexer": "ipython3",
   "version": "3.9.1"
  }
 },
 "nbformat": 4,
 "nbformat_minor": 5
}
